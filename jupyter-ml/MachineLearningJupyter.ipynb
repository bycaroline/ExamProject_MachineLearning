
import pandas as pd

# Läser in data
data1 = pd.read_csv('2024-11-11frKl21.csv')
data2= pd.read_csv('2024-11-12frKl21.csv')
data3 = pd.read_csv('2024-11-13frKl21.csv')
data4 = pd.read_csv('2024-11-16frKl21.csv')
data5= pd.read_csv('2024-11-18frKl21.csv')
data6 = pd.read_csv('2024-11-23frKl21.csv')
data7 = pd.read_csv('2024-11-24frKl21.csv')
data8= pd.read_csv('2024-11-25frKl21.csv')
data9= pd.read_csv('2024-11-26frKl21.csv')
data10= pd.read_csv('2024-11-27frKl21.csv')
data11= pd.read_csv('2024-11-28frKl21.csv')
data12= pd.read_csv('2024-11-29frKl21.csv')
data13= pd.read_csv('2024-12-01frKl21.csv')
data14= pd.read_csv('2024-12-08frKl21.csv')
data15= pd.read_csv('2024-12-12frKl21.csv')
data16=pd.read_csv('2024-12-13frKl21.csv')

combined_data_weekday = pd.concat([data1, data2, data3, data5, data7, data8, data9, data10, data11,   data13, data14,data15, data16])

# Konverterar till numeriska värden
combined_data_weekday['Unnamed: 0'] = pd.to_datetime(combined_data_weekday['Unnamed: 0'], errors='coerce')
combined_data_weekday['Tid'] = pd.to_timedelta(combined_data_weekday['Unnamed: 0'].dt.time.astype(str))
combined_data_weekday['Tid_num'] = combined_data_weekday['Tid'].dt.total_seconds()
combined_data_weekday = combined_data_weekday.drop(columns=['Unnamed: 0', 'Tid'], errors='ignore')

#Rensar data från värden med null
cleaned_data_weekday = combined_data_weekday.dropna()
cleaned_data_weekday
